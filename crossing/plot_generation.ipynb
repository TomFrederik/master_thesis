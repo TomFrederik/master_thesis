{
 "cells": [
  {
   "cell_type": "markdown",
   "metadata": {},
   "source": []
  },
  {
   "cell_type": "code",
   "execution_count": 1,
   "metadata": {},
   "outputs": [],
   "source": [
    "import numpy as np\n",
    "import matplotlib.pyplot as plt\n",
    "import wandb\n",
    "from tqdm import tqdm\n",
    "\n",
    "api = wandb.Api()\n",
    "ENT = \"TomFrederik\"\n",
    "PROJ = \"MT-ToyTask-Dreamer\"\n",
    "JOB_ID = \"9735345\" #NOTE <-- change this for new runs\n",
    "\n",
    "def gen_run_id_list(job_id):\n",
    "    my_list = []\n",
    "    for setting_num in range(21):\n",
    "        for seed_num in range(3):\n",
    "            my_list.append(f\"setting_{setting_num}_seed_{seed_num}_job_{job_id}\")\n",
    "    return my_list\n",
    "\n",
    "def fetch_last_loss(run_id: str, loss_name: str = \"tuning_loss\") -> float:\n",
    "    run = api.run(f\"{ENT}/{PROJ}/{run_id}\")\n",
    "    return run.history(keys=[f'Validation/{loss_name}']).iloc[-1][f'Validation/{loss_name}']\n",
    "\n",
    "\n",
    "def fetch_loss_list_per_setting(job_id, loss_name: str = \"tuning_loss\"):\n",
    "    out_dict = dict()\n",
    "    for setting_num in tqdm(range(21)):\n",
    "        loss_list = []\n",
    "        for seed_num in range(3):\n",
    "            run_id = f\"setting_{setting_num}_seed_{seed_num}_job_{job_id}\"\n",
    "            loss = fetch_last_loss(run_id, loss_name)\n",
    "            loss_list.append(loss)\n",
    "        out_dict[setting_num] = loss_list\n",
    "    return out_dict\n",
    "\n",
    "def compute_mean_std_per_setting(loss_dict):\n",
    "    out_dict = dict()\n",
    "    for key, val in loss_dict.items():\n",
    "        mean = np.mean(val)\n",
    "        std = np.std(val, ddof=1)\n",
    "        out_dict[key] = (mean, std)\n",
    "    return out_dict"
   ]
  },
  {
   "cell_type": "code",
   "execution_count": 2,
   "metadata": {},
   "outputs": [],
   "source": [
    "# run id lists per setting\n",
    "no_05 = [2, 4, 6]\n",
    "yes_05 = [0, 1, 3, 5]\n",
    "no_075 = [9, 11, 13]\n",
    "yes_075 = [7, 8, 10, 12]\n",
    "no_1 = [16, 18, 20]\n",
    "yes_1 = [14, 15, 17, 19]"
   ]
  },
  {
   "cell_type": "code",
   "execution_count": 3,
   "metadata": {},
   "outputs": [
    {
     "name": "stderr",
     "output_type": "stream",
     "text": [
      "100%|██████████| 21/21 [00:33<00:00,  1.59s/it]\n"
     ]
    }
   ],
   "source": [
    "mean_std_per_setting = compute_mean_std_per_setting(fetch_loss_list_per_setting(JOB_ID))"
   ]
  },
  {
   "cell_type": "code",
   "execution_count": 4,
   "metadata": {},
   "outputs": [
    {
     "name": "stdout",
     "output_type": "stream",
     "text": [
      "{0: (1.0892114241917927, 0.030028590614057774), 1: (1.1026465892791748, 0.023165266100528728), 2: (0.862434188524882, 0.07480769245900883), 3: (1.0967365900675456, 0.025271097328434505), 4: (0.8497713605562845, 0.03253033130074799), 5: (0.9724744558334351, 0.04885053969078592), 6: (0.7077555060386658, 0.013861285352820156), 7: (0.9256129066149393, 0.1657814113600506), 8: (0.9227114121119181, 0.16412013889207822), 9: (0.9322060942649841, 0.1498641635605515), 10: (0.9056475361188253, 0.15726788784935097), 11: (0.8406356573104858, 0.08737219930952987), 12: (0.7894478440284729, 0.1325139477673968), 13: (0.719443142414093, 0.12734631339268945), 14: (1.0861856540044148, 0.26449899641192604), 15: (1.079075853029887, 0.26183360727867516), 16: (1.1469945510228474, 0.38205153394628805), 17: (1.0564074913660686, 0.25659159334478077), 18: (1.0556213855743408, 0.1834205391156541), 19: (0.9029712478319804, 0.20876471710278943), 20: (0.6245344877243042, 0.025482929207967887)}\n"
     ]
    }
   ],
   "source": [
    "print(mean_std_per_setting)"
   ]
  },
  {
   "cell_type": "code",
   "execution_count": 5,
   "metadata": {},
   "outputs": [],
   "source": [
    "test_only_true_view_05 = [mean_std_per_setting[key] for key in yes_05]\n",
    "test_only_true_view_075 = [mean_std_per_setting[key] for key in yes_075]\n",
    "test_only_true_view_1 = [mean_std_per_setting[key] for key in yes_1]\n",
    "\n",
    "test_only_false_view_05 = [mean_std_per_setting[key] for key in no_05]\n",
    "test_only_false_view_075 = [mean_std_per_setting[key] for key in no_075]\n",
    "test_only_false_view_1 = [mean_std_per_setting[key] for key in no_1]"
   ]
  },
  {
   "cell_type": "code",
   "execution_count": 6,
   "metadata": {},
   "outputs": [
    {
     "name": "stdout",
     "output_type": "stream",
     "text": [
      "[(1.0892114241917927, 0.030028590614057774), (1.1026465892791748, 0.023165266100528728), (1.0967365900675456, 0.025271097328434505), (0.9724744558334351, 0.04885053969078592)]\n"
     ]
    }
   ],
   "source": [
    "print(test_only_true_view_05)"
   ]
  },
  {
   "cell_type": "code",
   "execution_count": 7,
   "metadata": {},
   "outputs": [],
   "source": [
    "xticks_yes = np.array([0, 0.1, 0.2, 0.5])\n",
    "xticks_no = np.array([0.1, 0.2, 0.5])\n",
    "plot_kwargs = dict(width=0.025, capsize=4)"
   ]
  },
  {
   "cell_type": "code",
   "execution_count": 11,
   "metadata": {},
   "outputs": [
    {
     "data": {
      "text/plain": [
       "<matplotlib.legend.Legend at 0x7fee4a5956d0>"
      ]
     },
     "execution_count": 11,
     "metadata": {},
     "output_type": "execute_result"
    },
    {
     "data": {
      "image/png": "[encoded data removed]",
      "text/plain": [
       "<Figure size 720x360 with 1 Axes>"
      ]
     },
     "metadata": {
      "needs_background": "light"
     },
     "output_type": "display_data"
    }
   ],
   "source": [
    "# eval for test_only true\n",
    "fig, ax = plt.subplots(figsize=(10, 5))\n",
    "ax.bar(xticks_yes-0.025, [x[0] for x in test_only_true_view_05], yerr=[x[1] for x in test_only_true_view_05], label=r\"$p=0.5$\", **plot_kwargs)\n",
    "ax.bar(xticks_yes, [x[0] for x in test_only_true_view_075], yerr=[x[1] for x in test_only_true_view_075], label=r\"$p=0.75$\", **plot_kwargs)\n",
    "ax.bar(xticks_yes+0.025, [x[0] for x in test_only_true_view_1], yerr=[x[1] for x in test_only_true_view_1], label=r\"$p=1$\", **plot_kwargs)\n",
    "plt.title(\"Test_only_dropout = True\")\n",
    "plt.xlabel(r\"Dropout probability $d$\")\n",
    "plt.ylabel(\"Tuning loss\")\n",
    "plt.legend()"
   ]
  },
  {
   "cell_type": "code",
   "execution_count": 12,
   "metadata": {},
   "outputs": [
    {
     "data": {
      "text/plain": [
       "<matplotlib.legend.Legend at 0x7fee5c8e9190>"
      ]
     },
     "execution_count": 12,
     "metadata": {},
     "output_type": "execute_result"
    },
    {
     "data": {
      "image/png": "[encoded data removed]",
      "text/plain": [
       "<Figure size 720x360 with 1 Axes>"
      ]
     },
     "metadata": {
      "needs_background": "light"
     },
     "output_type": "display_data"
    }
   ],
   "source": [
    "# eval for test_only false\n",
    "fig, ax = plt.subplots(figsize=(10, 5))\n",
    "ax.bar(xticks_no-0.025, [x[0] for x in test_only_false_view_05], yerr=[x[1] for x in test_only_false_view_05], label=r\"$p=0.5$\", **plot_kwargs)\n",
    "ax.bar(xticks_no, [x[0] for x in test_only_false_view_075], yerr=[x[1] for x in test_only_false_view_075], label=r\"$p=0.75$\", **plot_kwargs)\n",
    "ax.bar(xticks_no+0.025, [x[0] for x in test_only_false_view_1], yerr=[x[1] for x in test_only_false_view_1], label=r\"$p=1$\", **plot_kwargs)\n",
    "plt.title(\"Test_only_dropout = False\")\n",
    "plt.xlabel(r\"Dropout probability $d$\")\n",
    "plt.ylabel(\"Tuning loss\")\n",
    "plt.legend()"
   ]
  },
  {
   "cell_type": "code",
   "execution_count": null,
   "metadata": {},
   "outputs": [],
   "source": []
  }
 ],
 "metadata": {
  "kernelspec": {
   "display_name": "Python 3.9.6 ('main')",
   "language": "python",
   "name": "python3"
  },
  "language_info": {
   "codemirror_mode": {
    "name": "ipython",
    "version": 3
   },
   "file_extension": ".py",
   "mimetype": "text/x-python",
   "name": "python",
   "nbconvert_exporter": "python",
   "pygments_lexer": "ipython3",
   "version": "3.9.6"
  },
  "orig_nbformat": 4,
  "vscode": {
   "interpreter": {
    "hash": "fb1fdf4e89bcb5cd608cbf40c4d6eb56c2daee80e30c502c945d5cc7956d8970"
   }
  }
 },
 "nbformat": 4,
 "nbformat_minor": 2
}
