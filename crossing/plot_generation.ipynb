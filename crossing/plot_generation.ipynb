{
 "cells": [
  {
   "cell_type": "markdown",
   "metadata": {},
   "source": []
  },
  {
   "cell_type": "code",
   "execution_count": 1,
   "metadata": {},
   "outputs": [],
   "source": [
    "import numpy as np\n",
    "import matplotlib.pyplot as plt\n",
    "import wandb\n",
    "from tqdm import tqdm\n",
    "\n",
    "api = wandb.Api()\n",
    "ENT = \"TomFrederik\"\n",
    "PROJ = \"MT-ToyTask-Dreamer\"\n",
    "JOB_ID = \"9749161\" #NOTE <-- change this for new runs\n",
    "\n",
    "def gen_run_id_list(job_id):\n",
    "    my_list = []\n",
    "    for setting_num in range(21):\n",
    "        for seed_num in range(3):\n",
    "            my_list.append(f\"setting_{setting_num}_seed_{seed_num}_job_{job_id}\")\n",
    "    return my_list\n",
    "\n",
    "def fetch_last_loss(run_id: str, loss_name: str = \"tuning_loss\") -> float:\n",
    "    run = api.run(f\"{ENT}/{PROJ}/{run_id}\")\n",
    "    return run.history(keys=[f'Validation/{loss_name}']).iloc[-1][f'Validation/{loss_name}']\n",
    "\n",
    "\n",
    "def fetch_loss_list_per_setting(job_id, loss_name: str = \"tuning_loss\"):\n",
    "    out_dict = dict()\n",
    "    for setting_num in tqdm(range(21)):\n",
    "        loss_list = []\n",
    "        for seed_num in range(3):\n",
    "            run_id = f\"setting_{setting_num}_seed_{seed_num}_job_{job_id}\"\n",
    "            loss = fetch_last_loss(run_id, loss_name)\n",
    "            loss_list.append(loss)\n",
    "        out_dict[setting_num] = loss_list\n",
    "    return out_dict\n",
    "\n",
    "def compute_mean_std_per_setting(loss_dict):\n",
    "    out_dict = dict()\n",
    "    for key, val in loss_dict.items():\n",
    "        mean = np.mean(val)\n",
    "        std = np.std(val, ddof=1)\n",
    "        out_dict[key] = (mean, std)\n",
    "    return out_dict"
   ]
  },
  {
   "cell_type": "code",
   "execution_count": 2,
   "metadata": {},
   "outputs": [],
   "source": [
    "# run id lists per setting\n",
    "no_05 = [2, 4, 6]\n",
    "yes_05 = [0, 1, 3, 5]\n",
    "no_075 = [9, 11, 13]\n",
    "yes_075 = [7, 8, 10, 12]\n",
    "no_1 = [16, 18, 20]\n",
    "yes_1 = [14, 15, 17, 19]"
   ]
  },
  {
   "cell_type": "code",
   "execution_count": 10,
   "metadata": {},
   "outputs": [
    {
     "name": "stderr",
     "output_type": "stream",
     "text": [
      "100%|██████████| 21/21 [00:11<00:00,  1.85it/s]\n"
     ]
    }
   ],
   "source": [
    "# loss_name = \"value_prefix_loss\"\n",
    "loss_name = \"tuning_loss\"\n",
    "mean_std_per_setting = compute_mean_std_per_setting(fetch_loss_list_per_setting(JOB_ID, loss_name))"
   ]
  },
  {
   "cell_type": "code",
   "execution_count": 11,
   "metadata": {},
   "outputs": [
    {
     "name": "stdout",
     "output_type": "stream",
     "text": [
      "{0: (0.10129226744174957, 0.007992197419365646), 1: (0.26374512414137524, 0.07911688305071249), 2: (0.10026899476846059, 0.010192559659158341), 3: (0.6843811670939127, 0.4430093107874078), 4: (0.10935833056767781, 0.0026276202027611783), 5: (1.610611120859782, 0.6858852504606935), 6: (0.15997632841269174, 0.014811016735992645), 7: (0.11394721517960231, 0.0062638613758421256), 8: (0.40511083602905273, 0.20820648731861122), 9: (0.0941091999411583, 0.016957228732643288), 10: (0.8892449140548706, 0.6463936093958297), 11: (0.11286004384358723, 0.015789839004682706), 12: (1.6084152062733967, 0.5407566633828629), 13: (0.14035498599211374, 0.009382883630991061), 14: (0.1081094741821289, 0.015385847285363538), 15: (0.3707532584667206, 0.06441567883144902), 16: (0.11405182878176372, 0.008193644822654278), 17: (0.7682286500930786, 0.13528964467274784), 18: (0.13300399978955588, 0.011832310365735057), 19: (1.6330829858779907, 0.287708237402175), 20: (0.1467626988887787, 0.01231519578888124)}\n"
     ]
    }
   ],
   "source": [
    "print(mean_std_per_setting)"
   ]
  },
  {
   "cell_type": "code",
   "execution_count": 12,
   "metadata": {},
   "outputs": [],
   "source": [
    "test_only_true_view_05 = [mean_std_per_setting[key] for key in yes_05]\n",
    "test_only_true_view_075 = [mean_std_per_setting[key] for key in yes_075]\n",
    "test_only_true_view_1 = [mean_std_per_setting[key] for key in yes_1]\n",
    "\n",
    "test_only_false_view_05 = [mean_std_per_setting[key] for key in no_05]\n",
    "test_only_false_view_075 = [mean_std_per_setting[key] for key in no_075]\n",
    "test_only_false_view_1 = [mean_std_per_setting[key] for key in no_1]"
   ]
  },
  {
   "cell_type": "code",
   "execution_count": 13,
   "metadata": {},
   "outputs": [
    {
     "name": "stdout",
     "output_type": "stream",
     "text": [
      "[(0.10129226744174957, 0.007992197419365646), (0.26374512414137524, 0.07911688305071249), (0.6843811670939127, 0.4430093107874078), (1.610611120859782, 0.6858852504606935)]\n"
     ]
    }
   ],
   "source": [
    "print(test_only_true_view_05)"
   ]
  },
  {
   "cell_type": "code",
   "execution_count": 14,
   "metadata": {},
   "outputs": [],
   "source": [
    "xticks_yes = np.array([0, 0.1, 0.2, 0.5])\n",
    "xticks_no = np.array([0.1, 0.2, 0.5])\n",
    "plot_kwargs = dict(width=0.025, capsize=4)"
   ]
  },
  {
   "cell_type": "code",
   "execution_count": 17,
   "metadata": {},
   "outputs": [
    {
     "data": {
      "text/plain": [
       "<matplotlib.legend.Legend at 0x7f3bde6d9c70>"
      ]
     },
     "execution_count": 17,
     "metadata": {},
     "output_type": "execute_result"
    },
    {
     "data": {
      "image/png": "[encoded data removed]",
      "text/plain": [
       "<Figure size 720x360 with 1 Axes>"
      ]
     },
     "metadata": {
      "needs_background": "light"
     },
     "output_type": "display_data"
    }
   ],
   "source": [
    "# eval for test_only true\n",
    "fig, ax = plt.subplots(figsize=(10, 5))\n",
    "ax.bar(xticks_yes-0.025, [x[0] for x in test_only_true_view_05], yerr=[x[1] for x in test_only_true_view_05], label=r\"$p=0.5$\", **plot_kwargs)\n",
    "ax.bar(xticks_yes, [x[0] for x in test_only_true_view_075], yerr=[x[1] for x in test_only_true_view_075], label=r\"$p=0.75$\", **plot_kwargs)\n",
    "ax.bar(xticks_yes+0.025, [x[0] for x in test_only_true_view_1], yerr=[x[1] for x in test_only_true_view_1], label=r\"$p=1$\", **plot_kwargs)\n",
    "plt.title(\"Test_only_dropout = True\")\n",
    "# plt.yscale(\"log\")\n",
    "plt.xlabel(r\"Dropout probability $d$\")\n",
    "plt.ylabel(\"Tuning loss\")\n",
    "plt.legend()"
   ]
  },
  {
   "cell_type": "code",
   "execution_count": 18,
   "metadata": {},
   "outputs": [
    {
     "data": {
      "text/plain": [
       "<matplotlib.legend.Legend at 0x7f3bde637520>"
      ]
     },
     "execution_count": 18,
     "metadata": {},
     "output_type": "execute_result"
    },
    {
     "data": {
      "image/png": "[encoded data removed]",
      "text/plain": [
       "<Figure size 720x360 with 1 Axes>"
      ]
     },
     "metadata": {
      "needs_background": "light"
     },
     "output_type": "display_data"
    }
   ],
   "source": [
    "# eval for test_only false\n",
    "fig, ax = plt.subplots(figsize=(10, 5))\n",
    "ax.bar(xticks_no-0.025, [x[0] for x in test_only_false_view_05], yerr=[x[1] for x in test_only_false_view_05], label=r\"$p=0.5$\", **plot_kwargs)\n",
    "ax.bar(xticks_no, [x[0] for x in test_only_false_view_075], yerr=[x[1] for x in test_only_false_view_075], label=r\"$p=0.75$\", **plot_kwargs)\n",
    "ax.bar(xticks_no+0.025, [x[0] for x in test_only_false_view_1], yerr=[x[1] for x in test_only_false_view_1], label=r\"$p=1$\", **plot_kwargs)\n",
    "plt.title(\"Test_only_dropout = False\")\n",
    "# plt.yscale(\"log\")\n",
    "plt.xlabel(r\"Dropout probability $d$\")\n",
    "plt.ylabel(\"Tuning loss\")\n",
    "plt.legend()"
   ]
  },
  {
   "cell_type": "code",
   "execution_count": null,
   "metadata": {},
   "outputs": [],
   "source": []
  }
 ],
 "metadata": {
  "kernelspec": {
   "display_name": "Python 3.9.6 ('main')",
   "language": "python",
   "name": "python3"
  },
  "language_info": {
   "codemirror_mode": {
    "name": "ipython",
    "version": 3
   },
   "file_extension": ".py",
   "mimetype": "text/x-python",
   "name": "python",
   "nbconvert_exporter": "python",
   "pygments_lexer": "ipython3",
   "version": "3.9.6"
  },
  "orig_nbformat": 4,
  "vscode": {
   "interpreter": {
    "hash": "fb1fdf4e89bcb5cd608cbf40c4d6eb56c2daee80e30c502c945d5cc7956d8970"
   }
  }
 },
 "nbformat": 4,
 "nbformat_minor": 2
}
