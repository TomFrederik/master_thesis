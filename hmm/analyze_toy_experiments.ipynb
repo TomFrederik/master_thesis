{
 "cells": [
  {
   "cell_type": "code",
   "execution_count": 1,
   "metadata": {},
   "outputs": [],
   "source": [
    "import wandb\n",
    "import numpy as np\n",
    "import matplotlib.pyplot as plt\n",
    "import os\n",
    "from tqdm import tqdm"
   ]
  },
  {
   "cell_type": "code",
   "execution_count": 7,
   "metadata": {},
   "outputs": [],
   "source": [
    "METRICS = ['Validation/total_unscaled_loss', 'Validation/unscaled_dyn_loss', 'Validation/value_prefix_loss', 'Validation/recon_loss', 'trainer/global_step']"
   ]
  },
  {
   "cell_type": "code",
   "execution_count": 2,
   "metadata": {},
   "outputs": [],
   "source": [
    "api = wandb.Api()"
   ]
  },
  {
   "cell_type": "code",
   "execution_count": 14,
   "metadata": {},
   "outputs": [
    {
     "name": "stderr",
     "output_type": "stream",
     "text": [
      "100%|██████████| 44/44 [03:08<00:00,  4.29s/it]\n"
     ]
    }
   ],
   "source": [
    "if not os.path.exists('./perc_dropout_experiments/losses.npz'):\n",
    "    os.makedirs('./perc_dropout_experiments', exist_ok=True)\n",
    "    runs = api.runs(\"TomFrederik/MT-ToyTask-Ours\", filters = {\"group\": \"dense_perc_dropout\"})\n",
    "    losses = {}\n",
    "    for run in tqdm(runs):\n",
    "        path = os.path.join('./per_dropout_experiments', run.id)\n",
    "        setting = run.id.split(\"_\")[1]\n",
    "        # if setting not in ['0', '2', '4', '6']:\n",
    "        #     continue\n",
    "        \n",
    "        if setting not in losses:\n",
    "            losses[setting] = []\n",
    "        history = run.scan_history(keys=METRICS)\n",
    "        loss = {metric: [row[metric] for row in history] for metric in METRICS}\n",
    "        losses[setting].append(loss)\n",
    "\n",
    "    for key, value in losses.items():\n",
    "        losses[key] = {metric: np.array([run[metric] for run in losses[key]]) for metric in METRICS}\n",
    "    np.savez_compressed('./perc_dropout_experiments/losses.npz', **losses)\n",
    "# else:\n",
    "#     losses = np.load('./perc_dropout_experiments/losses.npz')"
   ]
  },
  {
   "cell_type": "code",
   "execution_count": 39,
   "metadata": {},
   "outputs": [
    {
     "data": {
      "image/png": "[encoded data removed]",
      "text/plain": [
       "<Figure size 432x288 with 1 Axes>"
      ]
     },
     "metadata": {
      "needs_background": "light"
     },
     "output_type": "display_data"
    }
   ],
   "source": [
    "for key, val in losses.items():\n",
    "    # if key not in ['0', '2', '4', '6']:\n",
    "    if key not in ['0', '2']:\n",
    "        continue\n",
    "    value = val['Validation/value_prefix_loss']\n",
    "    if value.dtype != np.float64: # is nan\n",
    "        continue\n",
    "    mean = value.mean(axis=0)\n",
    "    std = value.std(axis=0)\n",
    "    plt.figure()\n",
    "    plt.plot(mean, linewidth=3)\n",
    "    plt.fill_between(np.arange(3), mean-std, mean+std, alpha=0.5)\n",
    "    plt.yscale('log')\n",
    "    plt.show()"
   ]
  },
  {
   "cell_type": "code",
   "execution_count": null,
   "metadata": {},
   "outputs": [],
   "source": []
  }
 ],
 "metadata": {
  "kernelspec": {
   "display_name": "Python 3.9.6 ('main')",
   "language": "python",
   "name": "python3"
  },
  "language_info": {
   "codemirror_mode": {
    "name": "ipython",
    "version": 3
   },
   "file_extension": ".py",
   "mimetype": "text/x-python",
   "name": "python",
   "nbconvert_exporter": "python",
   "pygments_lexer": "ipython3",
   "version": "3.9.6"
  },
  "orig_nbformat": 4,
  "vscode": {
   "interpreter": {
    "hash": "fb1fdf4e89bcb5cd608cbf40c4d6eb56c2daee80e30c502c945d5cc7956d8970"
   }
  }
 },
 "nbformat": 4,
 "nbformat_minor": 2
}
