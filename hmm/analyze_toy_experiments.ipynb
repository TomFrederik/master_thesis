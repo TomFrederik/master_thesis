{
 "cells": [
  {
   "cell_type": "code",
   "execution_count": 1,
   "metadata": {},
   "outputs": [],
   "source": [
    "import wandb\n",
    "import numpy as np\n",
    "import matplotlib.pyplot as plt\n",
    "import os\n",
    "from tqdm import tqdm"
   ]
  },
  {
   "cell_type": "code",
   "execution_count": 2,
   "metadata": {},
   "outputs": [],
   "source": [
    "METRICS = ['Validation/total_unscaled_loss', 'Validation/unscaled_dyn_loss', 'Validation/value_prefix_loss', 'Validation/recon_loss', 'trainer/global_step']"
   ]
  },
  {
   "cell_type": "code",
   "execution_count": 3,
   "metadata": {},
   "outputs": [],
   "source": [
    "api = wandb.Api()"
   ]
  },
  {
   "cell_type": "code",
   "execution_count": 18,
   "metadata": {},
   "outputs": [
    {
     "name": "stderr",
     "output_type": "stream",
     "text": [
      "87it [13:30,  9.31s/it]                        \n",
      "/tmp/ipykernel_13032/3732123230.py:18: VisibleDeprecationWarning: Creating an ndarray from ragged nested sequences (which is a list-or-tuple of lists-or-tuples-or ndarrays with different lengths or shapes) is deprecated. If you meant to do this, you must specify 'dtype=object' when creating the ndarray.\n",
      "  losses[key] = {metric: np.array([run[metric] for run in losses[key]]) for metric in METRICS}\n"
     ]
    }
   ],
   "source": [
    "if not os.path.exists('./perc_dropout_experiments/losses.npz'):\n",
    "    os.makedirs('./perc_dropout_experiments', exist_ok=True)\n",
    "    runs = api.runs(\"TomFrederik/MT-ToyTask-Ours\", filters = {\"group\": \"dense_perc_dropout\"})\n",
    "    losses = {}\n",
    "    for run in tqdm(runs):\n",
    "        path = os.path.join('./per_dropout_experiments', run.id)\n",
    "        setting = run.id.split(\"_\")[1]\n",
    "        # if setting not in ['0', '2', '4', '6']:\n",
    "        #     continue\n",
    "        \n",
    "        if setting not in losses:\n",
    "            losses[setting] = []\n",
    "        history = run.scan_history(keys=METRICS)\n",
    "        loss = {metric: [row[metric] for row in history] for metric in METRICS}\n",
    "        losses[setting].append(loss)\n",
    "\n",
    "    for key, value in losses.items():\n",
    "        losses[key] = {metric: np.array([run[metric] for run in losses[key]]) for metric in METRICS}\n",
    "    np.savez_compressed('./perc_dropout_experiments/losses.npz', **losses)\n",
    "else:\n",
    "    losses = np.load('./perc_dropout_experiments/losses.npz', allow_pickle=True)"
   ]
  },
  {
   "cell_type": "code",
   "execution_count": 20,
   "metadata": {},
   "outputs": [
    {
     "name": "stdout",
     "output_type": "stream",
     "text": [
      "['16', '15', '14', '13', '12', '11', '10', '1', '9', '0', '18', '8', '7', '6', '5', '4', '3', '20', '2', '19', '17']\n",
      "{'Validation/total_unscaled_loss': array([[3.09652925, 2.9328208 , 2.9111495 ],\n",
      "       [1.53598511, 1.93545651, 3.22407556],\n",
      "       [1.53598511, 1.93545651, 3.22407556],\n",
      "       [2.59778476, 2.61525249, 2.56885004]]), 'Validation/unscaled_dyn_loss': array([[2.49387693, 2.34910941, 2.3384707 ],\n",
      "       [0.02965687, 0.60736382, 2.08239698],\n",
      "       [0.02965687, 0.60736382, 2.08239698],\n",
      "       [1.70256698, 1.73132062, 1.75369334]]), 'Validation/value_prefix_loss': array([[0.01061315, 0.0084517 , 0.00426335],\n",
      "       [0.23493978, 0.08304019, 0.08449121],\n",
      "       [0.23493978, 0.08304019, 0.08449121],\n",
      "       [0.05234629, 0.05185476, 0.03377716]]), 'Validation/recon_loss': array([[0.59203911, 0.57525986, 0.56841552],\n",
      "       [1.27138841, 1.24505258, 1.0571878 ],\n",
      "       [1.27138841, 1.24505258, 1.0571878 ],\n",
      "       [0.84287208, 0.83207726, 0.78137994]]), 'trainer/global_step': array([[1799, 3599, 5399],\n",
      "       [1799, 3599, 5399],\n",
      "       [1799, 3599, 5399],\n",
      "       [1799, 3599, 5399]])}\n"
     ]
    }
   ],
   "source": [
    "print(list(losses.keys()))\n",
    "print(losses['20'])"
   ]
  },
  {
   "cell_type": "code",
   "execution_count": 25,
   "metadata": {},
   "outputs": [
    {
     "data": {
      "image/png": "[encoded data removed]",
      "text/plain": [
       "<Figure size 432x288 with 1 Axes>"
      ]
     },
     "metadata": {
      "needs_background": "light"
     },
     "output_type": "display_data"
    }
   ],
   "source": [
    "plt.figure()\n",
    "for key, val in losses.items():\n",
    "    # if key not in ['0', '2', '4', '6']:\n",
    "    # if key not in ['20']:\n",
    "    #     continue\n",
    "    value = val['Validation/value_prefix_loss']\n",
    "    if value.dtype != np.float64: # is nan\n",
    "        continue\n",
    "    mean = value.mean(axis=0)\n",
    "    std = value.std(axis=0)\n",
    "    plt.plot(mean, linewidth=3)\n",
    "    plt.fill_between(np.arange(3), mean-std, mean+std, alpha=0.1)\n",
    "plt.yscale('log')\n",
    "plt.show()"
   ]
  },
  {
   "cell_type": "code",
   "execution_count": 28,
   "metadata": {},
   "outputs": [
    {
     "data": {
      "image/png": "[encoded data removed]",
      "text/plain": [
       "<Figure size 432x288 with 1 Axes>"
      ]
     },
     "metadata": {
      "needs_background": "light"
     },
     "output_type": "display_data"
    }
   ],
   "source": [
    "plt.figure()\n",
    "for key, val in losses.items():\n",
    "    # if key not in ['0', '2', '4', '6']:\n",
    "    # if key not in ['20']:\n",
    "    #     continue\n",
    "    value = val['Validation/value_prefix_loss']\n",
    "    if value.dtype != np.float64: # is nan\n",
    "        continue\n",
    "    mean = value.mean(axis=0)\n",
    "    std = value.std(axis=0)\n",
    "    plt.bar(int(key), mean[-1])\n",
    "    plt.text(int(key), mean[-1], f'{key}')\n",
    "    # plt.fill_between(np.arange(3), mean-std, mean+std, alpha=0.1)\n",
    "plt.yscale('log')\n",
    "plt.show()"
   ]
  },
  {
   "cell_type": "code",
   "execution_count": 30,
   "metadata": {},
   "outputs": [],
   "source": [
    "# create a mapping from key to dropout for fixed test-only-dropout and percentage\n",
    "perc_05_no = {\n",
    "    2: 0.1,\n",
    "    4: 0.2,\n",
    "    6: 0.5,\n",
    "}\n",
    "perc_05_yes = {\n",
    "    0: 0,\n",
    "    1: 0.1,\n",
    "    3: 0.2,\n",
    "    5: 0.5,\n",
    "}\n",
    "perc_075_no = {\n",
    "    9: 0.1,\n",
    "    11: 0.2,\n",
    "    13: 0.5,\n",
    "}\n",
    "perc_075_yes = {\n",
    "    7: 0,\n",
    "    8: 0.1,\n",
    "    10: 0.2,\n",
    "    12: 0.5,\n",
    "}\n",
    "perc_1_no = {\n",
    "    16: 0.1,\n",
    "    18: 0.2,\n",
    "    20: 0.5,\n",
    "}\n",
    "perc_1_yes = {\n",
    "    14: 0,\n",
    "    15: 0.1,\n",
    "    17: 0.2,\n",
    "    19: 0.5,\n",
    "}\n",
    "\n",
    "settings = {\n",
    "    (0.5, 'no'): perc_05_no,\n",
    "    (0.5, 'yes'): perc_05_yes,\n",
    "    (0.75, 'no'): perc_075_no,\n",
    "    (0.75, 'yes'): perc_075_yes,\n",
    "    (1, 'no'): perc_1_no,\n",
    "    (1, 'yes'): perc_1_yes,\n",
    "}\n"
   ]
  },
  {
   "cell_type": "code",
   "execution_count": 43,
   "metadata": {},
   "outputs": [
    {
     "name": "stdout",
     "output_type": "stream",
     "text": [
      "{(0.5, 'no'): {'mean': array([0.00238433, 0.04905825]), 'std': array([9.93458088e-05, 3.26154344e-02])}, (0.5, 'yes'): {'mean': array([0.0343895 , 0.06211694, 0.07660733, 0.14716471]), 'std': array([0.03147742, 0.02615187, 0.01326479, 0.02782528])}, (0.75, 'no'): {'mean': array([0.02542787]), 'std': array([0.01546438])}, (0.75, 'yes'): {'mean': array([0.01618098, 0.03227174]), 'std': array([0.0161775 , 0.00952215])}, (1, 'no'): {'mean': array([0.05175573]), 'std': array([0.03435833])}, (1, 'yes'): {'mean': array([0.0108986 , 0.01913995, 0.01312907, 0.06506465]), 'std': array([0.0243627 , 0.03363815, 0.00513815, 0.03883323])}}\n"
     ]
    }
   ],
   "source": [
    "results_by_setting = {}\n",
    "for setting, keys in settings.items():\n",
    "    results_by_setting[setting] = {'mean': [], 'std': []}\n",
    "    for key in keys.keys():\n",
    "        value = losses[str(key)]['Validation/value_prefix_loss']\n",
    "        if value.dtype != np.float64: # is nan\n",
    "            continue    \n",
    "        results_by_setting[setting]['mean'].append(value.mean(axis=0)[-1])\n",
    "        results_by_setting[setting]['std'].append(value.std(axis=0)[-1])\n",
    "    results_by_setting[setting]['mean'] = np.array(results_by_setting[setting]['mean'])\n",
    "    results_by_setting[setting]['std'] = np.array(results_by_setting[setting]['std'])\n",
    "print(results_by_setting)"
   ]
  },
  {
   "cell_type": "code",
   "execution_count": 47,
   "metadata": {},
   "outputs": [
    {
     "data": {
      "image/png": "[encoded data removed]",
      "text/plain": [
       "<Figure size 432x288 with 1 Axes>"
      ]
     },
     "metadata": {
      "needs_background": "light"
     },
     "output_type": "display_data"
    }
   ],
   "source": [
    "plt.figure()\n",
    "for setting, values in results_by_setting.items():\n",
    "    plt.plot([0, 0.1, 0.2, 0.5][:len(values['mean'])], values['mean'], linewidth=3, label=f\"{setting}\")\n",
    "    plt.fill_between([0, 0.1, 0.2, 0.5][:len(values['mean'])], values['mean']-values['std'], values['mean']+values['std'], alpha=0.2)\n",
    "plt.xticks([0, 0.1, 0.2, 0.5])\n",
    "plt.yscale('log')\n",
    "# plt.legend()\n",
    "plt.title('Reward loss vs. dropout')\n",
    "plt.xlabel(\"Dropout rate\")\n",
    "plt.ylabel(\"Reward loss\")\n",
    "plt.show()"
   ]
  },
  {
   "cell_type": "code",
   "execution_count": null,
   "metadata": {},
   "outputs": [],
   "source": []
  }
 ],
 "metadata": {
  "kernelspec": {
   "display_name": "Python 3.9.6 ('main')",
   "language": "python",
   "name": "python3"
  },
  "language_info": {
   "codemirror_mode": {
    "name": "ipython",
    "version": 3
   },
   "file_extension": ".py",
   "mimetype": "text/x-python",
   "name": "python",
   "nbconvert_exporter": "python",
   "pygments_lexer": "ipython3",
   "version": "3.9.6"
  },
  "orig_nbformat": 4,
  "vscode": {
   "interpreter": {
    "hash": "fb1fdf4e89bcb5cd608cbf40c4d6eb56c2daee80e30c502c945d5cc7956d8970"
   }
  }
 },
 "nbformat": 4,
 "nbformat_minor": 2
}
