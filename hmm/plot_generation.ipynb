{
 "cells": [
  {
   "cell_type": "markdown",
   "metadata": {},
   "source": []
  },
  {
   "cell_type": "code",
   "execution_count": 4,
   "metadata": {},
   "outputs": [],
   "source": [
    "import numpy as np\n",
    "import matplotlib.pyplot as plt\n",
    "import wandb\n",
    "from tqdm import tqdm\n",
    "\n",
    "api = wandb.Api()\n",
    "ENT = \"TomFrederik\"\n",
    "PROJ = \"MT-ToyTask-Ours\"\n",
    "JOB_ID = \"9749050\" #NOTE <-- change this for new runs\n",
    "\n",
    "def gen_run_id_list(job_id):\n",
    "    my_list = []\n",
    "    for setting_num in range(21):\n",
    "        for seed_num in range(3):\n",
    "            my_list.append(f\"setting_{setting_num}_seed_{seed_num}_job_{job_id}\")\n",
    "    return my_list\n",
    "\n",
    "def fetch_last_loss(run_id: str, loss_name: str = \"tuning_loss\") -> float:\n",
    "    run = api.run(f\"{ENT}/{PROJ}/{run_id}\")\n",
    "    return run.history(keys=[f'Validation/{loss_name}']).iloc[-1][f'Validation/{loss_name}']\n",
    "\n",
    "\n",
    "def fetch_loss_list_per_setting(job_id, loss_name: str = \"tuning_loss\"):\n",
    "    out_dict = dict()\n",
    "    for setting_num in tqdm(range(21)):\n",
    "        loss_list = []\n",
    "        for seed_num in range(5):\n",
    "            if setting_num == 5 and seed_num == 4:\n",
    "                print(\"WARNING: skipping setting 5, seed 4 -> need to run this again due to time limit\")\n",
    "                continue\n",
    "            run_id = f\"setting_{setting_num}_seed_{seed_num}_job_{job_id}\"\n",
    "            loss = fetch_last_loss(run_id, loss_name)\n",
    "            loss_list.append(loss)\n",
    "        out_dict[setting_num] = loss_list\n",
    "    return out_dict\n",
    "\n",
    "def compute_mean_std_per_setting(loss_dict):\n",
    "    out_dict = dict()\n",
    "    for key, val in loss_dict.items():\n",
    "        mean = np.mean(val)\n",
    "        std = np.std(val, ddof=1)\n",
    "        out_dict[key] = (mean, std)\n",
    "    return out_dict"
   ]
  },
  {
   "cell_type": "code",
   "execution_count": 5,
   "metadata": {},
   "outputs": [],
   "source": [
    "# run id lists per setting\n",
    "no_05 = [2, 4, 6]\n",
    "yes_05 = [0, 1, 3, 5]\n",
    "no_075 = [9, 11, 13]\n",
    "yes_075 = [7, 8, 10, 12]\n",
    "no_1 = [16, 18, 20]\n",
    "yes_1 = [14, 15, 17, 19]"
   ]
  },
  {
   "cell_type": "code",
   "execution_count": 13,
   "metadata": {},
   "outputs": [
    {
     "name": "stderr",
     "output_type": "stream",
     "text": [
      " 29%|██▊       | 6/21 [00:11<00:26,  1.78s/it]"
     ]
    },
    {
     "name": "stdout",
     "output_type": "stream",
     "text": [
      "WARNING: skipping setting 5, seed 4 -> need to run this again due to time limit\n"
     ]
    },
    {
     "name": "stderr",
     "output_type": "stream",
     "text": [
      "100%|██████████| 21/21 [00:41<00:00,  1.95s/it]\n"
     ]
    }
   ],
   "source": [
    "# loss_name = \"value_prefix_loss\"\n",
    "loss_name = \"tuning_loss\"\n",
    "mean_std_per_setting = compute_mean_std_per_setting(fetch_loss_list_per_setting(JOB_ID, loss_name))"
   ]
  },
  {
   "cell_type": "code",
   "execution_count": 14,
   "metadata": {},
   "outputs": [
    {
     "name": "stdout",
     "output_type": "stream",
     "text": [
      "{0: (1.6386680126190185, 0.6967550285806802), 1: (1.6260901093482971, 0.675471341779685), 2: (0.9301786303520203, 0.0648956700179937), 3: (1.585414707660675, 0.6400109239921467), 4: (0.8106583237648011, 0.036558327354827884), 5: (1.225545957684517, 0.48680964096903556), 6: (0.6352794647216797, 0.0480934645674707), 7: (0.7908253073692322, 0.07056138633539014), 8: (0.7890285849571228, 0.07214776671356599), 9: (0.8551739454269409, 0.17683497057441105), 10: (0.7757726073265075, 0.07345690982854172), 11: (0.7146935224533081, 0.05577225752962312), 12: (0.6708000779151917, 0.09086222341832485), 13: (0.5703148961067199, 0.031213386775650456), 14: (1.3061569452285766, 0.3817641606338839), 15: (1.3027786612510681, 0.3810758066763596), 16: (0.9389663457870483, 0.17922775677988811), 17: (1.2794597864151, 0.374637386442538), 18: (0.7096618771553039, 0.01953690455597263), 19: (1.0890172839164733, 0.3220743468841941), 20: (0.6592512607574463, 0.09214496078986505)}\n"
     ]
    }
   ],
   "source": [
    "print(mean_std_per_setting)"
   ]
  },
  {
   "cell_type": "code",
   "execution_count": 15,
   "metadata": {},
   "outputs": [],
   "source": [
    "test_only_true_view_05 = [mean_std_per_setting[key] for key in yes_05]\n",
    "test_only_true_view_075 = [mean_std_per_setting[key] for key in yes_075]\n",
    "test_only_true_view_1 = [mean_std_per_setting[key] for key in yes_1]\n",
    "\n",
    "test_only_false_view_05 = [mean_std_per_setting[key] for key in no_05]\n",
    "test_only_false_view_075 = [mean_std_per_setting[key] for key in no_075]\n",
    "test_only_false_view_1 = [mean_std_per_setting[key] for key in no_1]"
   ]
  },
  {
   "cell_type": "code",
   "execution_count": 16,
   "metadata": {},
   "outputs": [
    {
     "name": "stdout",
     "output_type": "stream",
     "text": [
      "[(1.6386680126190185, 0.6967550285806802), (1.6260901093482971, 0.675471341779685), (1.585414707660675, 0.6400109239921467), (1.225545957684517, 0.48680964096903556)]\n"
     ]
    }
   ],
   "source": [
    "print(test_only_true_view_05)"
   ]
  },
  {
   "cell_type": "code",
   "execution_count": 17,
   "metadata": {},
   "outputs": [],
   "source": [
    "xticks_yes = np.array([0, 0.1, 0.2, 0.5])\n",
    "xticks_no = np.array([0.1, 0.2, 0.5])\n",
    "plot_kwargs = dict(width=0.025, capsize=4)"
   ]
  },
  {
   "cell_type": "code",
   "execution_count": 18,
   "metadata": {},
   "outputs": [
    {
     "data": {
      "text/plain": [
       "<matplotlib.legend.Legend at 0x7fb0fb8c61c0>"
      ]
     },
     "execution_count": 18,
     "metadata": {},
     "output_type": "execute_result"
    },
    {
     "data": {
      "image/png": "[encoded data removed]",
      "text/plain": [
       "<Figure size 720x360 with 1 Axes>"
      ]
     },
     "metadata": {
      "needs_background": "light"
     },
     "output_type": "display_data"
    }
   ],
   "source": [
    "# eval for test_only true\n",
    "fig, ax = plt.subplots(figsize=(10, 5))\n",
    "ax.bar(xticks_yes-0.025, [x[0] for x in test_only_true_view_05], yerr=[x[1] for x in test_only_true_view_05], label=r\"$p=0.5$\", **plot_kwargs)\n",
    "ax.bar(xticks_yes, [x[0] for x in test_only_true_view_075], yerr=[x[1] for x in test_only_true_view_075], label=r\"$p=0.75$\", **plot_kwargs)\n",
    "ax.bar(xticks_yes+0.025, [x[0] for x in test_only_true_view_1], yerr=[x[1] for x in test_only_true_view_1], label=r\"$p=1$\", **plot_kwargs)\n",
    "plt.title(\"Test_only_dropout = True\")\n",
    "plt.xlabel(r\"Dropout probability $d$\")\n",
    "# plt.yscale(\"log\")\n",
    "plt.ylabel(\"Tuning loss\")\n",
    "plt.legend()"
   ]
  },
  {
   "cell_type": "code",
   "execution_count": 19,
   "metadata": {},
   "outputs": [
    {
     "data": {
      "text/plain": [
       "<matplotlib.legend.Legend at 0x7fb0fb81a0d0>"
      ]
     },
     "execution_count": 19,
     "metadata": {},
     "output_type": "execute_result"
    },
    {
     "data": {
      "image/png": "[encoded data removed]",
      "text/plain": [
       "<Figure size 720x360 with 1 Axes>"
      ]
     },
     "metadata": {
      "needs_background": "light"
     },
     "output_type": "display_data"
    }
   ],
   "source": [
    "# eval for test_only false\n",
    "fig, ax = plt.subplots(figsize=(10, 5))\n",
    "ax.bar(xticks_no-0.025, [x[0] for x in test_only_false_view_05], yerr=[x[1] for x in test_only_false_view_05], label=r\"$p=0.5$\", **plot_kwargs)\n",
    "ax.bar(xticks_no, [x[0] for x in test_only_false_view_075], yerr=[x[1] for x in test_only_false_view_075], label=r\"$p=0.75$\", **plot_kwargs)\n",
    "ax.bar(xticks_no+0.025, [x[0] for x in test_only_false_view_1], yerr=[x[1] for x in test_only_false_view_1], label=r\"$p=1$\", **plot_kwargs)\n",
    "plt.title(\"Test_only_dropout = False\")\n",
    "# plt.yscale(\"log\")\n",
    "plt.xlabel(r\"Dropout probability $d$\")\n",
    "plt.ylabel(\"Tuning loss\")\n",
    "plt.legend()"
   ]
  },
  {
   "cell_type": "code",
   "execution_count": null,
   "metadata": {},
   "outputs": [],
   "source": []
  }
 ],
 "metadata": {
  "kernelspec": {
   "display_name": "Python 3.9.6 ('main')",
   "language": "python",
   "name": "python3"
  },
  "language_info": {
   "codemirror_mode": {
    "name": "ipython",
    "version": 3
   },
   "file_extension": ".py",
   "mimetype": "text/x-python",
   "name": "python",
   "nbconvert_exporter": "python",
   "pygments_lexer": "ipython3",
   "version": "3.9.6"
  },
  "orig_nbformat": 4,
  "vscode": {
   "interpreter": {
    "hash": "fb1fdf4e89bcb5cd608cbf40c4d6eb56c2daee80e30c502c945d5cc7956d8970"
   }
  }
 },
 "nbformat": 4,
 "nbformat_minor": 2
}
