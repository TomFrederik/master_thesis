{
 "cells": [
  {
   "cell_type": "markdown",
   "metadata": {},
   "source": []
  },
  {
   "cell_type": "code",
   "execution_count": 63,
   "metadata": {},
   "outputs": [],
   "source": [
    "import numpy as np\n",
    "import matplotlib.pyplot as plt\n",
    "import wandb\n",
    "from tqdm import tqdm\n",
    "\n",
    "api = wandb.Api()\n",
    "ENT = \"TomFrederik\"\n",
    "PROJ = \"MT-ToyTask-Ours\"\n",
    "JOB_ID = \"9728972\" #NOTE <-- change this for new runs\n",
    "\n",
    "def gen_run_id_list(job_id):\n",
    "    my_list = []\n",
    "    for setting_num in range(21):\n",
    "        for seed_num in range(3):\n",
    "            my_list.append(f\"setting_{setting_num}_seed_{seed_num}_job_{job_id}\")\n",
    "    return my_list\n",
    "\n",
    "def fetch_last_loss(run_id: str, loss_name: str = \"tuning_loss\") -> float:\n",
    "    run = api.run(f\"{ENT}/{PROJ}/{run_id}\")\n",
    "    return run.history(keys=[f'Validation/{loss_name}']).iloc[-1][f'Validation/{loss_name}']\n",
    "\n",
    "\n",
    "def fetch_loss_list_per_setting(job_id, loss_name: str = \"tuning_loss\"):\n",
    "    out_dict = dict()\n",
    "    for setting_num in tqdm(range(21)):\n",
    "        loss_list = []\n",
    "        for seed_num in range(3):\n",
    "            run_id = f\"setting_{setting_num}_seed_{seed_num}_job_{job_id}\"\n",
    "            loss = fetch_last_loss(run_id, loss_name)\n",
    "            loss_list.append(loss)\n",
    "        out_dict[setting_num] = loss_list\n",
    "    return out_dict\n",
    "\n",
    "def compute_mean_std_per_setting(loss_dict):\n",
    "    out_dict = dict()\n",
    "    for key, val in loss_dict.items():\n",
    "        mean = np.mean(val)\n",
    "        std = np.std(val, ddof=1)\n",
    "        out_dict[key] = (mean, std)\n",
    "    return out_dict"
   ]
  },
  {
   "cell_type": "code",
   "execution_count": 64,
   "metadata": {},
   "outputs": [],
   "source": [
    "# run id lists per setting\n",
    "no_05 = [2, 4, 6]\n",
    "yes_05 = [0, 1, 3, 5]\n",
    "no_075 = [9, 11, 13]\n",
    "yes_075 = [7, 8, 10, 12]\n",
    "no_1 = [16, 18, 20]\n",
    "yes_1 = [14, 15, 17, 19]"
   ]
  },
  {
   "cell_type": "code",
   "execution_count": 65,
   "metadata": {},
   "outputs": [
    {
     "name": "stderr",
     "output_type": "stream",
     "text": [
      "100%|██████████| 21/21 [00:19<00:00,  1.06it/s]\n"
     ]
    }
   ],
   "source": [
    "mean_std_per_setting = compute_mean_std_per_setting(fetch_loss_list_per_setting(JOB_ID))"
   ]
  },
  {
   "cell_type": "code",
   "execution_count": 66,
   "metadata": {},
   "outputs": [
    {
     "name": "stdout",
     "output_type": "stream",
     "text": [
      "{0: (0.5038341879844666, 0.057810257538056006), 1: (0.5135832826296488, 0.053474350480905056), 2: (0.5757095118363699, 0.07676697680438467), 3: (0.5192529062430064, 0.04300479611655347), 4: (0.6427499850591024, 0.030130048657121523), 5: (0.5125447312990824, 0.011806963803415197), 6: (0.521559456984202, 0.010177588438005898), 7: (0.8920036753018697, 0.2249489879084201), 8: (0.8910880287488302, 0.21573774020579647), 9: (0.7736607591311137, 0.07275890687624564), 10: (0.8774821360905966, 0.19885802641350914), 11: (0.7454430262247721, 0.10604462257253434), 12: (0.7665027181307474, 0.1095672856241135), 13: (0.6908064484596252, 0.13883580211593377), 14: (1.050689955552419, 0.16221699385889662), 15: (1.0455237825711567, 0.16258572960253495), 16: (1.2080293496449788, 0.2552943941942726), 17: (1.0242211023966472, 0.16108991111036944), 18: (0.9454437692960104, 0.2082934460316862), 19: (0.8815164764722189, 0.15681137738669973), 20: (0.8032146493593851, 0.15226391393256172)}\n"
     ]
    }
   ],
   "source": [
    "print(mean_std_per_setting)"
   ]
  },
  {
   "cell_type": "code",
   "execution_count": 67,
   "metadata": {},
   "outputs": [],
   "source": [
    "test_only_true_view_05 = [mean_std_per_setting[key] for key in yes_05]\n",
    "test_only_true_view_075 = [mean_std_per_setting[key] for key in yes_075]\n",
    "test_only_true_view_1 = [mean_std_per_setting[key] for key in yes_1]\n",
    "\n",
    "test_only_false_view_05 = [mean_std_per_setting[key] for key in no_05]\n",
    "test_only_false_view_075 = [mean_std_per_setting[key] for key in no_075]\n",
    "test_only_false_view_1 = [mean_std_per_setting[key] for key in no_1]"
   ]
  },
  {
   "cell_type": "code",
   "execution_count": 68,
   "metadata": {},
   "outputs": [
    {
     "name": "stdout",
     "output_type": "stream",
     "text": [
      "[(0.5038341879844666, 0.057810257538056006), (0.5135832826296488, 0.053474350480905056), (0.5192529062430064, 0.04300479611655347), (0.5125447312990824, 0.011806963803415197)]\n"
     ]
    }
   ],
   "source": [
    "print(test_only_true_view_05)"
   ]
  },
  {
   "cell_type": "code",
   "execution_count": 69,
   "metadata": {},
   "outputs": [],
   "source": [
    "xticks_yes = np.array([0, 0.1, 0.2, 0.5])\n",
    "xticks_no = np.array([0.1, 0.2, 0.5])\n",
    "plot_kwargs = dict(width=0.025, capsize=4)"
   ]
  },
  {
   "cell_type": "code",
   "execution_count": 70,
   "metadata": {},
   "outputs": [
    {
     "data": {
      "text/plain": [
       "<matplotlib.legend.Legend at 0x7f2e8aa19ac0>"
      ]
     },
     "execution_count": 70,
     "metadata": {},
     "output_type": "execute_result"
    },
    {
     "data": {
      "image/png": "[encoded data removed]",
      "text/plain": [
       "<Figure size 720x360 with 1 Axes>"
      ]
     },
     "metadata": {
      "needs_background": "light"
     },
     "output_type": "display_data"
    }
   ],
   "source": [
    "# eval for test_only true\n",
    "fig, ax = plt.subplots(figsize=(10, 5))\n",
    "ax.bar(xticks_yes-0.025, [x[0] for x in test_only_true_view_05], yerr=[x[1] for x in test_only_true_view_05], label=\"test_only_true_view_05\", **plot_kwargs)\n",
    "ax.bar(xticks_yes, [x[0] for x in test_only_true_view_075], yerr=[x[1] for x in test_only_true_view_075], label=\"test_only_true_view_075\", **plot_kwargs)\n",
    "ax.bar(xticks_yes+0.025, [x[0] for x in test_only_true_view_1], yerr=[x[1] for x in test_only_true_view_1], label=\"test_only_true_view_1\", **plot_kwargs)\n",
    "plt.legend()"
   ]
  },
  {
   "cell_type": "code",
   "execution_count": 71,
   "metadata": {},
   "outputs": [
    {
     "data": {
      "text/plain": [
       "<matplotlib.legend.Legend at 0x7f2e88c2ca60>"
      ]
     },
     "execution_count": 71,
     "metadata": {},
     "output_type": "execute_result"
    },
    {
     "data": {
      "image/png": "[encoded data removed]",
      "text/plain": [
       "<Figure size 720x360 with 1 Axes>"
      ]
     },
     "metadata": {
      "needs_background": "light"
     },
     "output_type": "display_data"
    }
   ],
   "source": [
    "# eval for test_only false\n",
    "fig, ax = plt.subplots(figsize=(10, 5))\n",
    "ax.bar(xticks_no-0.025, [x[0] for x in test_only_false_view_05], yerr=[x[1] for x in test_only_false_view_05], label=\"test_only_false_view_05\", **plot_kwargs)\n",
    "ax.bar(xticks_no, [x[0] for x in test_only_false_view_075], yerr=[x[1] for x in test_only_false_view_075], label=\"test_only_false_view_075\", **plot_kwargs)\n",
    "ax.bar(xticks_no+0.025, [x[0] for x in test_only_false_view_1], yerr=[x[1] for x in test_only_false_view_1], label=\"test_only_false_view_1\", **plot_kwargs)\n",
    "plt.legend()"
   ]
  },
  {
   "cell_type": "code",
   "execution_count": null,
   "metadata": {},
   "outputs": [],
   "source": []
  }
 ],
 "metadata": {
  "kernelspec": {
   "display_name": "Python 3.9.6 ('main')",
   "language": "python",
   "name": "python3"
  },
  "language_info": {
   "codemirror_mode": {
    "name": "ipython",
    "version": 3
   },
   "file_extension": ".py",
   "mimetype": "text/x-python",
   "name": "python",
   "nbconvert_exporter": "python",
   "pygments_lexer": "ipython3",
   "version": "3.9.6"
  },
  "orig_nbformat": 4,
  "vscode": {
   "interpreter": {
    "hash": "fb1fdf4e89bcb5cd608cbf40c4d6eb56c2daee80e30c502c945d5cc7956d8970"
   }
  }
 },
 "nbformat": 4,
 "nbformat_minor": 2
}
