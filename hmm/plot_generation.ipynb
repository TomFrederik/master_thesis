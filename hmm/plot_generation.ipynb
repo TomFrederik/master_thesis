{
 "cells": [
  {
   "cell_type": "markdown",
   "metadata": {},
   "source": []
  },
  {
   "cell_type": "code",
   "execution_count": 1,
   "metadata": {},
   "outputs": [],
   "source": [
    "import numpy as np\n",
    "import matplotlib.pyplot as plt\n"
   ]
  },
  {
   "cell_type": "code",
   "execution_count": null,
   "metadata": {},
   "outputs": [],
   "source": [
    "# reporting the tuning loss\n",
    "# our method data\n",
    "# test_only = True\n",
    "test_only_true_view_05 = [(1.022, 0.06691), (0.9369, 0.06187), (0.8518, 0.05084), (0.6197, 0.0232)]\n",
    "# this downward trend does not hold for the training data\n",
    "# there is something fishy here. Maybe I'm averaging over all frames but only summing over those that don't disappear"
   ]
  }
 ],
 "metadata": {
  "kernelspec": {
   "display_name": "Python 3.9.6 ('main')",
   "language": "python",
   "name": "python3"
  },
  "language_info": {
   "codemirror_mode": {
    "name": "ipython",
    "version": 3
   },
   "file_extension": ".py",
   "mimetype": "text/x-python",
   "name": "python",
   "nbconvert_exporter": "python",
   "pygments_lexer": "ipython3",
   "version": "3.9.6"
  },
  "orig_nbformat": 4,
  "vscode": {
   "interpreter": {
    "hash": "fb1fdf4e89bcb5cd608cbf40c4d6eb56c2daee80e30c502c945d5cc7956d8970"
   }
  }
 },
 "nbformat": 4,
 "nbformat_minor": 2
}
